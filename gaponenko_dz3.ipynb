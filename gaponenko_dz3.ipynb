{
 "cells": [
  {
   "cell_type": "markdown",
   "metadata": {},
   "source": [
    "Лабораторная работа №4. Кластеризация данных"
   ]
  },
  {
   "cell_type": "markdown",
   "metadata": {},
   "source": [
    "Подготовка выборки для кластеризации данных"
   ]
  },
  {
   "cell_type": "code",
   "execution_count": 1,
   "metadata": {},
   "outputs": [],
   "source": [
    "# Импортируем библиотеки\n",
    "from scipy.cluster.hierarchy import linkage, dendrogram\n",
    "import matplotlib.pyplot as plt\n",
    "import pandas as pd\n",
    "\n",
    "# Загружаем данные\n",
    "games_df = pd.read_excel(\"E:/Users10/user/Desktop/mag/iad/labi/data/data_homework_sep.xlsx\")\n",
    "\n",
    "%matplotlib inline"
   ]
  },
  {
   "cell_type": "markdown",
   "metadata": {},
   "source": [
    "Для ускорения процесса будем работать с patch2, также удалим некоторые столбцы, чтобы попытаься выделить кластеры, исходя из результатов сражений"
   ]
  },
  {
   "cell_type": "code",
   "execution_count": 2,
   "metadata": {},
   "outputs": [
    {
     "data": {
      "text/html": [
       "<div>\n",
       "<style scoped>\n",
       "    .dataframe tbody tr th:only-of-type {\n",
       "        vertical-align: middle;\n",
       "    }\n",
       "\n",
       "    .dataframe tbody tr th {\n",
       "        vertical-align: top;\n",
       "    }\n",
       "\n",
       "    .dataframe thead th {\n",
       "        text-align: right;\n",
       "    }\n",
       "</style>\n",
       "<table border=\"1\" class=\"dataframe\">\n",
       "  <thead>\n",
       "    <tr style=\"text-align: right;\">\n",
       "      <th></th>\n",
       "      <th>player_id</th>\n",
       "      <th>kills_made</th>\n",
       "      <th>credits</th>\n",
       "      <th>exp</th>\n",
       "      <th>is_surv</th>\n",
       "      <th>is_win</th>\n",
       "    </tr>\n",
       "  </thead>\n",
       "  <tbody>\n",
       "    <tr>\n",
       "      <th>474527</th>\n",
       "      <td>1779818</td>\n",
       "      <td>0</td>\n",
       "      <td>6210</td>\n",
       "      <td>125</td>\n",
       "      <td>1</td>\n",
       "      <td>0</td>\n",
       "    </tr>\n",
       "    <tr>\n",
       "      <th>474528</th>\n",
       "      <td>1798639</td>\n",
       "      <td>0</td>\n",
       "      <td>23169</td>\n",
       "      <td>151</td>\n",
       "      <td>1</td>\n",
       "      <td>0</td>\n",
       "    </tr>\n",
       "    <tr>\n",
       "      <th>474529</th>\n",
       "      <td>1731294</td>\n",
       "      <td>0</td>\n",
       "      <td>41232</td>\n",
       "      <td>902</td>\n",
       "      <td>1</td>\n",
       "      <td>1</td>\n",
       "    </tr>\n",
       "    <tr>\n",
       "      <th>474530</th>\n",
       "      <td>1712637</td>\n",
       "      <td>0</td>\n",
       "      <td>8921</td>\n",
       "      <td>123</td>\n",
       "      <td>1</td>\n",
       "      <td>0</td>\n",
       "    </tr>\n",
       "    <tr>\n",
       "      <th>474531</th>\n",
       "      <td>1726253</td>\n",
       "      <td>0</td>\n",
       "      <td>5939</td>\n",
       "      <td>146</td>\n",
       "      <td>1</td>\n",
       "      <td>0</td>\n",
       "    </tr>\n",
       "  </tbody>\n",
       "</table>\n",
       "</div>"
      ],
      "text/plain": [
       "        player_id  kills_made  credits  exp  is_surv  is_win\n",
       "474527    1779818           0     6210  125        1       0\n",
       "474528    1798639           0    23169  151        1       0\n",
       "474529    1731294           0    41232  902        1       1\n",
       "474530    1712637           0     8921  123        1       0\n",
       "474531    1726253           0     5939  146        1       0"
      ]
     },
     "execution_count": 2,
     "metadata": {},
     "output_type": "execute_result"
    }
   ],
   "source": [
    "patch2 = games_df.loc[games_df['patch'].isin(['2'])]\n",
    "del patch2['dt']\n",
    "del patch2['patch']\n",
    "del patch2['item_nation']\n",
    "del patch2['item_class']\n",
    "del patch2['item_level']\n",
    "\n",
    "patch2.head()"
   ]
  },
  {
   "cell_type": "markdown",
   "metadata": {},
   "source": [
    "Разделим набор данных (будем выделять кластеры, например, по таким признакам, как kills_made и is_win)"
   ]
  },
  {
   "cell_type": "code",
   "execution_count": 36,
   "metadata": {},
   "outputs": [],
   "source": [
    "x_axis = patch2.kills_made  # kills_made\n",
    "y_axis = patch2.is_win  # is_win"
   ]
  },
  {
   "cell_type": "code",
   "execution_count": 37,
   "metadata": {},
   "outputs": [
    {
     "data": {
      "image/png": "[encoded data removed]",
      "text/plain": [
       "<Figure size 432x288 with 1 Axes>"
      ]
     },
     "metadata": {
      "needs_background": "light"
     },
     "output_type": "display_data"
    }
   ],
   "source": [
    "# Построение\n",
    "plt.xlabel(\"kills_made\")\n",
    "plt.ylabel(\"is_win\")\n",
    "plt.scatter(x_axis, y_axis, c=patch2.player_id)\n",
    "plt.show()"
   ]
  },
  {
   "cell_type": "code",
   "execution_count": 25,
   "metadata": {},
   "outputs": [
    {
     "data": {
      "image/png": "[encoded data removed]",
      "text/plain": [
       "<Figure size 432x288 with 1 Axes>"
      ]
     },
     "metadata": {
      "needs_background": "light"
     },
     "output_type": "display_data"
    }
   ],
   "source": [
    "plt.xlabel(\"kills_made\")\n",
    "plt.ylabel(\"is_win\")\n",
    "plt.scatter(x_axis, y_axis)\n",
    "plt.show()"
   ]
  },
  {
   "cell_type": "markdown",
   "metadata": {},
   "source": [
    "Метод k-средних. Наиболее популярным алгоритмом кластеризации данных является метод k-средних. Это итеративный алгоритм кластеризации, основанный на минимизации суммарных квадратичных отклонений точек кластеров от центроидов (средних координат) этих кластеров."
   ]
  },
  {
   "cell_type": "code",
   "execution_count": 29,
   "metadata": {},
   "outputs": [
    {
     "name": "stdout",
     "output_type": "stream",
     "text": [
      "(369947, 6) (369947,)\n",
      "(92487, 6) (92487,)\n"
     ]
    }
   ],
   "source": [
    "from sklearn.model_selection import train_test_split \n",
    "y = patch2.player_id \n",
    "X_train, X_test, y_train, y_test = train_test_split (patch2, y, test_size = 0.2) \n",
    "print(X_train.shape, y_train.shape) \n",
    "print(X_test.shape, y_test.shape)"
   ]
  },
  {
   "cell_type": "code",
   "execution_count": 30,
   "metadata": {},
   "outputs": [
    {
     "data": {
      "text/html": [
       "<div>\n",
       "<style scoped>\n",
       "    .dataframe tbody tr th:only-of-type {\n",
       "        vertical-align: middle;\n",
       "    }\n",
       "\n",
       "    .dataframe tbody tr th {\n",
       "        vertical-align: top;\n",
       "    }\n",
       "\n",
       "    .dataframe thead th {\n",
       "        text-align: right;\n",
       "    }\n",
       "</style>\n",
       "<table border=\"1\" class=\"dataframe\">\n",
       "  <thead>\n",
       "    <tr style=\"text-align: right;\">\n",
       "      <th></th>\n",
       "      <th>player_id</th>\n",
       "      <th>kills_made</th>\n",
       "      <th>credits</th>\n",
       "      <th>exp</th>\n",
       "      <th>is_surv</th>\n",
       "      <th>is_win</th>\n",
       "    </tr>\n",
       "  </thead>\n",
       "  <tbody>\n",
       "    <tr>\n",
       "      <th>474527</th>\n",
       "      <td>1779818</td>\n",
       "      <td>0</td>\n",
       "      <td>6210</td>\n",
       "      <td>125</td>\n",
       "      <td>1</td>\n",
       "      <td>0</td>\n",
       "    </tr>\n",
       "    <tr>\n",
       "      <th>474528</th>\n",
       "      <td>1798639</td>\n",
       "      <td>0</td>\n",
       "      <td>23169</td>\n",
       "      <td>151</td>\n",
       "      <td>1</td>\n",
       "      <td>0</td>\n",
       "    </tr>\n",
       "    <tr>\n",
       "      <th>474529</th>\n",
       "      <td>1731294</td>\n",
       "      <td>0</td>\n",
       "      <td>41232</td>\n",
       "      <td>902</td>\n",
       "      <td>1</td>\n",
       "      <td>1</td>\n",
       "    </tr>\n",
       "    <tr>\n",
       "      <th>474530</th>\n",
       "      <td>1712637</td>\n",
       "      <td>0</td>\n",
       "      <td>8921</td>\n",
       "      <td>123</td>\n",
       "      <td>1</td>\n",
       "      <td>0</td>\n",
       "    </tr>\n",
       "    <tr>\n",
       "      <th>474531</th>\n",
       "      <td>1726253</td>\n",
       "      <td>0</td>\n",
       "      <td>5939</td>\n",
       "      <td>146</td>\n",
       "      <td>1</td>\n",
       "      <td>0</td>\n",
       "    </tr>\n",
       "  </tbody>\n",
       "</table>\n",
       "</div>"
      ],
      "text/plain": [
       "        player_id  kills_made  credits  exp  is_surv  is_win\n",
       "474527    1779818           0     6210  125        1       0\n",
       "474528    1798639           0    23169  151        1       0\n",
       "474529    1731294           0    41232  902        1       1\n",
       "474530    1712637           0     8921  123        1       0\n",
       "474531    1726253           0     5939  146        1       0"
      ]
     },
     "execution_count": 30,
     "metadata": {},
     "output_type": "execute_result"
    }
   ],
   "source": [
    "patch2.head()"
   ]
  },
  {
   "cell_type": "code",
   "execution_count": 31,
   "metadata": {},
   "outputs": [
    {
     "name": "stdout",
     "output_type": "stream",
     "text": [
      "[5]\n",
      "[5 5 1 ... 2 4 9]\n"
     ]
    },
    {
     "data": {
      "image/png": "[encoded data removed]",
      "text/plain": [
       "<Figure size 432x288 with 1 Axes>"
      ]
     },
     "metadata": {
      "needs_background": "light"
     },
     "output_type": "display_data"
    }
   ],
   "source": [
    "# Импортируем алгоритм из библиотеки\n",
    "from sklearn.cluster import KMeans\n",
    "\n",
    "# Описываем модель\n",
    "model = KMeans(n_clusters=10)\n",
    "\n",
    "# Проводим моделирование\n",
    "model.fit(patch2)\n",
    "\n",
    "# Предсказание на единичном примере\n",
    "predicted_label = model.predict([[1779818, 0, 6210, 125, 1, 0]])\n",
    "\n",
    "# Предсказание на всем наборе данных\n",
    "all_predictions = model.predict(patch2)\n",
    "\n",
    "# Выводим предсказания\n",
    "print(predicted_label)\n",
    "print(all_predictions)\n",
    "\n",
    "# Рисуем график\n",
    "plt.xlabel(\"kills_made\")\n",
    "plt.ylabel(\"is_win\")\n",
    "plt.scatter(x_axis, y_axis, c=all_predictions)\n",
    "plt.show()"
   ]
  },
  {
   "cell_type": "markdown",
   "metadata": {},
   "source": [
    "Иерархическая кластеризация. Поскольку в нашем случае объём данных большой, данный метод требует значильных затрат времени, потому необходимо сильно урезать выборку"
   ]
  },
  {
   "cell_type": "code",
   "execution_count": 46,
   "metadata": {},
   "outputs": [],
   "source": [
    "#Для ускорения процесса будем работать только с patch2, линией орудия MediumTK, уровнем орудия 4 и страной Германией, \n",
    "#также удалим столбцы patch, item_class, dt, item_nation, item_level\n",
    "patch2 = games_df.loc[games_df['patch'].isin(['2'])]\n",
    "\n",
    "del patch2['dt']\n",
    "del patch2['patch']\n",
    "\n",
    "mediumTK= patch2.loc[patch2['item_class'].isin(['mediumTK'])]\n",
    "del mediumTK['item_class']\n",
    "\n",
    "Germany = mediumTK.loc[mediumTK['item_nation'].isin(['GERMANY'])]\n",
    "del Germany['item_nation']\n",
    "\n",
    "Germany1 = Germany.loc[Germany['item_level'].isin(['4'])]\n",
    "del Germany1['item_level']"
   ]
  },
  {
   "cell_type": "code",
   "execution_count": 48,
   "metadata": {},
   "outputs": [
    {
     "data": {
      "text/html": [
       "<div>\n",
       "<style scoped>\n",
       "    .dataframe tbody tr th:only-of-type {\n",
       "        vertical-align: middle;\n",
       "    }\n",
       "\n",
       "    .dataframe tbody tr th {\n",
       "        vertical-align: top;\n",
       "    }\n",
       "\n",
       "    .dataframe thead th {\n",
       "        text-align: right;\n",
       "    }\n",
       "</style>\n",
       "<table border=\"1\" class=\"dataframe\">\n",
       "  <thead>\n",
       "    <tr style=\"text-align: right;\">\n",
       "      <th></th>\n",
       "      <th>player_id</th>\n",
       "      <th>kills_made</th>\n",
       "      <th>credits</th>\n",
       "      <th>exp</th>\n",
       "      <th>is_surv</th>\n",
       "      <th>is_win</th>\n",
       "    </tr>\n",
       "  </thead>\n",
       "  <tbody>\n",
       "    <tr>\n",
       "      <th>474556</th>\n",
       "      <td>1842721</td>\n",
       "      <td>0</td>\n",
       "      <td>8708</td>\n",
       "      <td>120</td>\n",
       "      <td>1</td>\n",
       "      <td>0</td>\n",
       "    </tr>\n",
       "    <tr>\n",
       "      <th>475145</th>\n",
       "      <td>1844306</td>\n",
       "      <td>0</td>\n",
       "      <td>6130</td>\n",
       "      <td>190</td>\n",
       "      <td>1</td>\n",
       "      <td>1</td>\n",
       "    </tr>\n",
       "    <tr>\n",
       "      <th>476747</th>\n",
       "      <td>1845198</td>\n",
       "      <td>0</td>\n",
       "      <td>4785</td>\n",
       "      <td>107</td>\n",
       "      <td>1</td>\n",
       "      <td>0</td>\n",
       "    </tr>\n",
       "    <tr>\n",
       "      <th>476962</th>\n",
       "      <td>1842721</td>\n",
       "      <td>0</td>\n",
       "      <td>6024</td>\n",
       "      <td>143</td>\n",
       "      <td>1</td>\n",
       "      <td>0</td>\n",
       "    </tr>\n",
       "    <tr>\n",
       "      <th>476977</th>\n",
       "      <td>1837144</td>\n",
       "      <td>2</td>\n",
       "      <td>5383</td>\n",
       "      <td>156</td>\n",
       "      <td>1</td>\n",
       "      <td>0</td>\n",
       "    </tr>\n",
       "  </tbody>\n",
       "</table>\n",
       "</div>"
      ],
      "text/plain": [
       "        player_id  kills_made  credits  exp  is_surv  is_win\n",
       "474556    1842721           0     8708  120        1       0\n",
       "475145    1844306           0     6130  190        1       1\n",
       "476747    1845198           0     4785  107        1       0\n",
       "476962    1842721           0     6024  143        1       0\n",
       "476977    1837144           2     5383  156        1       0"
      ]
     },
     "execution_count": 48,
     "metadata": {},
     "output_type": "execute_result"
    }
   ],
   "source": [
    "Germany1.head()"
   ]
  },
  {
   "cell_type": "code",
   "execution_count": 49,
   "metadata": {},
   "outputs": [
    {
     "data": {
      "image/png": "[encoded data removed]",
      "text/plain": [
       "<Figure size 432x288 with 1 Axes>"
      ]
     },
     "metadata": {
      "needs_background": "light"
     },
     "output_type": "display_data"
    }
   ],
   "source": [
    "# Исключаем информацию об id игрока, сохраняем для дальнейшего использования\n",
    "varieties = list(Germany1.pop('player_id'))\n",
    "\n",
    "# Извлекаем измерения как массив NumPy\n",
    "samples =  Germany1.values\n",
    "\n",
    "# Реализация иерархической кластеризации при помощи функции linkage\n",
    "mergings = linkage(samples, method = 'complete')\n",
    "\n",
    "# Строим дендрограмму, указав параметры, удобные для отображения\n",
    "dendrogram(mergings,\n",
    "           labels=varieties,\n",
    "           leaf_rotation=90,\n",
    "           leaf_font_size=6,\n",
    "           )\n",
    "\n",
    "plt.show()"
   ]
  },
  {
   "cell_type": "markdown",
   "metadata": {},
   "source": [
    "Какие-то кластеры выделяются, однако понятно, что в нашем случае, когда объём данных огромен, такой метод не очень эффективен, а на маленькой выборке в нашем случае будет совсем неточным, нужно уменьшать размерность"
   ]
  },
  {
   "cell_type": "markdown",
   "metadata": {},
   "source": [
    "Понижение размерности с методом t-SNE. Сейчас просто посмотрим, как это работает (сократим по максимуму выборку)"
   ]
  },
  {
   "cell_type": "code",
   "execution_count": 52,
   "metadata": {},
   "outputs": [
    {
     "name": "stdout",
     "output_type": "stream",
     "text": [
      "<class 'pandas.core.frame.DataFrame'>\n",
      "Int64Index: 1046 entries, 474556 to 935437\n",
      "Data columns (total 6 columns):\n",
      "player_id     1046 non-null int64\n",
      "kills_made    1046 non-null int64\n",
      "credits       1046 non-null int64\n",
      "exp           1046 non-null int64\n",
      "is_surv       1046 non-null int64\n",
      "is_win        1046 non-null int64\n",
      "dtypes: int64(6)\n",
      "memory usage: 57.2 KB\n"
     ]
    }
   ],
   "source": [
    "from sklearn.manifold import TSNE\n",
    "\n",
    "Germany2 = Germany.loc[Germany['item_level'].isin(['4'])]\n",
    "del Germany2['item_level']\n",
    "\n",
    "Germany2.info()"
   ]
  },
  {
   "cell_type": "code",
   "execution_count": 54,
   "metadata": {},
   "outputs": [
    {
     "data": {
      "image/png": "[encoded data removed]",
      "text/plain": [
       "<Figure size 432x288 with 1 Axes>"
      ]
     },
     "metadata": {
      "needs_background": "light"
     },
     "output_type": "display_data"
    }
   ],
   "source": [
    "# Определяем модель и скорость обучения\n",
    "model = TSNE(learning_rate=100)\n",
    "\n",
    "# Обучаем модель\n",
    "transformed = model.fit_transform(Germany2)\n",
    "\n",
    "# Представляем результат в двумерных координатах\n",
    "x_axis = transformed[:, 0]\n",
    "y_axis = transformed[:, 1]\n",
    "\n",
    "plt.scatter(x_axis, y_axis, c = Germany2.player_id)\n",
    "plt.show()"
   ]
  },
  {
   "cell_type": "markdown",
   "metadata": {},
   "source": [
    "Метод главных компонент (PCA) - для модели с прогнозом is_win"
   ]
  },
  {
   "cell_type": "code",
   "execution_count": 56,
   "metadata": {},
   "outputs": [],
   "source": [
    "from sklearn import decomposition\n",
    "\n",
    "#Почистим данные (закодируем текстовые)\n",
    "from sklearn.preprocessing import LabelEncoder\n",
    "\n",
    "patch2 = games_df.loc[games_df['patch'].isin(['2'])]\n",
    "del patch2['dt']\n",
    "del patch2['patch']\n",
    "\n",
    "label = LabelEncoder()\n",
    "\n",
    "dicts = {}\n",
    "label.fit(patch2.item_class.drop_duplicates()) #задаем список значений для кодирования\n",
    "\n",
    "dicts['item_class'] = list(label.classes_)\n",
    "\n",
    "patch2.item_class = label.transform(patch2.item_class) #заменяем значения из списка кодами закодированных элементов\n",
    "\n",
    "label.fit(patch2.item_nation.drop_duplicates())\n",
    "\n",
    "dicts['item_nation'] = list(label.classes_)\n",
    "\n",
    "patch2.item_nation = label.transform(patch2.item_nation)"
   ]
  },
  {
   "cell_type": "code",
   "execution_count": 57,
   "metadata": {},
   "outputs": [],
   "source": [
    "X = patch2\n",
    "y = patch2.is_win"
   ]
  },
  {
   "cell_type": "code",
   "execution_count": 58,
   "metadata": {},
   "outputs": [
    {
     "name": "stdout",
     "output_type": "stream",
     "text": [
      "Accuracy: 1.00000\n"
     ]
    }
   ],
   "source": [
    "from sklearn.tree import DecisionTreeClassifier\n",
    "from sklearn.model_selection import train_test_split\n",
    "from sklearn.metrics import accuracy_score, roc_auc_score\n",
    "\n",
    "# Выделим из наших данных валидационную выборку\n",
    "X_train, X_test, y_train, y_test = train_test_split(X, y, test_size=.3, \n",
    "                                                    stratify=y, \n",
    "                                                    random_state=142)\n",
    "\n",
    "# Для примера возьмём неглубокое дерево решений\n",
    "clf = DecisionTreeClassifier(max_depth=2, random_state=142)\n",
    "clf.fit(X_train, y_train)\n",
    "preds = clf.predict_proba(X_test)\n",
    "print('Accuracy: {:.5f}'.format(accuracy_score(y_test, \n",
    "                                                preds.argmax(axis=1))))"
   ]
  },
  {
   "cell_type": "code",
   "execution_count": 60,
   "metadata": {},
   "outputs": [
    {
     "data": {
      "image/png": "[encoded data removed]",
      "text/plain": [
       "<Figure size 432x288 with 1 Axes>"
      ]
     },
     "metadata": {
      "needs_background": "light"
     },
     "output_type": "display_data"
    }
   ],
   "source": [
    "# Прогоним встроенный в sklearn PCA\n",
    "pca = decomposition.PCA(n_components=2)\n",
    "X_centered = X - X.mean(axis=0)\n",
    "pca.fit(X_centered)\n",
    "X_pca = pca.transform(X_centered)\n",
    "\n",
    "# И нарисуем получившиеся точки в нашем новом пространстве\n",
    "plt.plot(X_pca[y == 0, 0], X_pca[y == 0, 1], 'bo', label='1')\n",
    "plt.plot(X_pca[y == 1, 0], X_pca[y == 1, 1], 'go', label='2')\n",
    "plt.plot(X_pca[y == 2, 0], X_pca[y == 2, 1], 'ro', label='3')\n",
    "plt.legend(loc=0);"
   ]
  },
  {
   "cell_type": "code",
   "execution_count": 61,
   "metadata": {},
   "outputs": [
    {
     "name": "stdout",
     "output_type": "stream",
     "text": [
      "Accuracy: 0.65851\n"
     ]
    }
   ],
   "source": [
    "# Повторим то же самое разбиение на валидацию и тренировочную выборку.\n",
    "X_train, X_test, y_train, y_test = train_test_split(X_pca, y, test_size=.3, \n",
    "                                                    stratify=y, \n",
    "                                                    random_state=142)\n",
    "\n",
    "clf = DecisionTreeClassifier(max_depth=2, random_state=142)\n",
    "clf.fit(X_train, y_train)\n",
    "preds = clf.predict_proba(X_test)\n",
    "print('Accuracy: {:.5f}'.format(accuracy_score(y_test, \n",
    "                                                preds.argmax(axis=1))))"
   ]
  }
 ],
 "metadata": {
  "kernelspec": {
   "display_name": "Python 3",
   "language": "python",
   "name": "python3"
  },
  "language_info": {
   "codemirror_mode": {
    "name": "ipython",
    "version": 3
   },
   "file_extension": ".py",
   "mimetype": "text/x-python",
   "name": "python",
   "nbconvert_exporter": "python",
   "pygments_lexer": "ipython3",
   "version": "3.7.3"
  }
 },
 "nbformat": 4,
 "nbformat_minor": 2
}
